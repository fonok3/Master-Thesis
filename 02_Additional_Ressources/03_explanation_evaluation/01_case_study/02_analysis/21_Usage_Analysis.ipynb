{
 "cells": [
  {
   "cell_type": "code",
   "execution_count": 1,
   "metadata": {},
   "outputs": [
    {
     "name": "stdout",
     "output_type": "stream",
     "text": [
      "<class 'pandas.core.frame.DataFrame'>\n",
      "Int64Index: 41540 entries, 0 to 41539\n",
      "Data columns (total 17 columns):\n",
      " #   Column                                            Non-Null Count  Dtype  \n",
      "---  ------                                            --------------  -----  \n",
      " 0   DeviceId                                          41540 non-null  object \n",
      " 1   numberOfRoutes                                    41540 non-null  int64  \n",
      " 2   InitialTrafficVolume                              41540 non-null  object \n",
      " 3   DistanceTraveledInMeters                          41540 non-null  int64  \n",
      " 4   OffRoutePerTenKilometers                          41540 non-null  float64\n",
      " 5   LowAccuracyCounter                                41540 non-null  int64  \n",
      " 6   Rating                                            696 non-null    float64\n",
      " 7   NumberOfTimesSeenUserCountExplanationShort        41540 non-null  float64\n",
      " 8   NumberOfTimesSeenUserCountExplanationLong         41540 non-null  float64\n",
      " 9   NumberOfTimesSeenCollaborativeRoutingExplanation  41540 non-null  float64\n",
      " 10  ActualDrivingTime                                 41540 non-null  int64  \n",
      " 11  EstimatedDrivingTime                              41540 non-null  int64  \n",
      " 12  MaxLowAccuracy                                    41540 non-null  int64  \n",
      " 13  NumberOfUnnormalRoutes                            41540 non-null  float64\n",
      " 14  LowAccuracyPerKilometer                           41540 non-null  float64\n",
      " 15  task                                              41540 non-null  object \n",
      " 16  group_named                                       41540 non-null  object \n",
      "dtypes: float64(7), int64(6), object(4)\n",
      "memory usage: 5.7+ MB\n"
     ]
    }
   ],
   "source": [
    "import pandas as pd\n",
    "import seaborn as sns\n",
    "import matplotlib.pyplot as plt\n",
    "import scipy.stats as st\n",
    "import numpy as np\n",
    "\n",
    "%matplotlib inline\n",
    "\n",
    "# Import data\n",
    "df = pd.read_csv(\"data/data_cummulative.csv\");\n",
    "\n",
    "# Set user groups from enabled features\n",
    "\n",
    "# Abbreviations:\n",
    "# - BG: User got no explanations (base group).\n",
    "# - AE: User got explanations about the routing algorithm (alogorithm explanations).\n",
    "# - NE: User got explanations depending on the active navigation (navigation explanations).\n",
    "# - GE: User got both types of explanations (grouped explanations).\n",
    "\n",
    "df.loc[(df['LowAccuracyCounter'].isna()), 'LowAccuracyCounter'] = 0\n",
    "df.loc[(df['MaxLowAccuracy'].isna()), 'MaxLowAccuracy'] = 0\n",
    "df.loc[(df['NumberOfUnnormalRoutes'].isna()), 'NumberOfUnnormalRoutes'] = 0\n",
    "df.loc[(df['OffRoutePerTenKilometers'].isna()), 'OffRoutePerTenKilometers'] = 0\n",
    "df.loc[(df['DistanceTraveledInMeters'].isna()), 'DistanceTraveledInMeters'] = 0\n",
    "df.loc[(df['NumberOfTimesSeenUserCountExplanationShort'].isna()), 'NumberOfTimesSeenUserCountExplanationShort'] = 0\n",
    "df.loc[(df['NumberOfTimesSeenUserCountExplanationLong'].isna()), 'NumberOfTimesSeenUserCountExplanationLong'] = 0\n",
    "df.loc[(df['NumberOfTimesSeenCollaborativeRoutingExplanation'].isna()), 'NumberOfTimesSeenCollaborativeRoutingExplanation'] = 0\n",
    "\n",
    "df[\"LowAccuracyPerKilometer\"] = df[\"LowAccuracyCounter\"] / (df[\"DistanceTraveledInMeters\"] / 1000)\n",
    "df.loc[(df['LowAccuracyPerKilometer'].isna()), 'LowAccuracyPerKilometer'] = 0\n",
    "\n",
    "df.loc[(df['GpsQuality'] == False) & (df['TrafficVolume'] == False) & (df['RouteExplanation'] == False) & (df['UserCount'] == False), 'task'] = \"BG\"\n",
    "df.loc[(df['GpsQuality'] == False) & (df['TrafficVolume'] == False) & (df['RouteExplanation'] == True) & (df['UserCount'] == True), 'task'] = \"AE\"\n",
    "df.loc[(df['GpsQuality'] == True) & (df['TrafficVolume'] == True) & ((df['MaxLowAccuracy'] > 0) | (df['NumberOfUnnormalRoutes'] > 0)) & (df['RouteExplanation'] == False) & (df['UserCount'] == False), 'task'] = \"NE\"\n",
    "df.loc[(df['GpsQuality'] == True) & (df['TrafficVolume'] == True) & ((df['MaxLowAccuracy'] > 0) | (df['NumberOfUnnormalRoutes'] > 0)) & (df['RouteExplanation'] == True) & (df['UserCount'] == True), 'task'] = \"GE\"\n",
    "df.loc[(df['GpsQuality'] == True) & (df['TrafficVolume'] == True) & ((df['MaxLowAccuracy'] <= 0) & (df['NumberOfUnnormalRoutes'] <= 0)) & (df['RouteExplanation'] == False) & (df['UserCount'] == False), 'task'] = \"BG\"\n",
    "df.loc[(df['GpsQuality'] == True) & (df['TrafficVolume'] == True) & ((df['MaxLowAccuracy'] <= 0) & (df['NumberOfUnnormalRoutes'] <= 0)) & (df['RouteExplanation'] == True) & (df['UserCount'] == True), 'task'] = \"AE\"\n",
    "\n",
    "df.loc[(df['task'] == \"BG\"), 'group_named'] = \"Gruppe 1\"\n",
    "df.loc[(df['task'] == \"AE\"), 'group_named'] = \"Gruppe 2\"\n",
    "df.loc[(df['task'] == \"NE\"), 'group_named'] = \"Gruppe 3\"\n",
    "df.loc[(df['task'] == \"GE\"), 'group_named'] = \"Gruppe 4\"\n",
    "\n",
    "df = df[df['task'].notna()]\n",
    "\n",
    "# Remove fields with redundant information\n",
    "df = df.drop(columns=['GpsQuality', 'TrafficVolume', 'RouteExplanation', 'UserCount'])\n",
    "\n",
    "df.info()"
   ]
  },
  {
   "cell_type": "code",
   "execution_count": 2,
   "metadata": {},
   "outputs": [
    {
     "name": "stdout",
     "output_type": "stream",
     "text": [
      "<class 'pandas.core.frame.DataFrame'>\n",
      "RangeIndex: 9590 entries, 0 to 9589\n",
      "Data columns (total 14 columns):\n",
      " #   Column                                            Non-Null Count  Dtype  \n",
      "---  ------                                            --------------  -----  \n",
      " 0   DeviceId                                          9590 non-null   object \n",
      " 1   numberOfRoutes                                    9590 non-null   int64  \n",
      " 2   DistanceTraveledInMeters                          9590 non-null   int64  \n",
      " 3   OffRoutePerTenKilometers                          9590 non-null   float64\n",
      " 4   LowAccuracyCounter                                9590 non-null   int64  \n",
      " 5   Rating                                            9590 non-null   float64\n",
      " 6   NumberOfTimesSeenUserCountExplanationShort        9590 non-null   float64\n",
      " 7   NumberOfTimesSeenUserCountExplanationLong         9590 non-null   float64\n",
      " 8   NumberOfTimesSeenCollaborativeRoutingExplanation  9590 non-null   float64\n",
      " 9   ActualDrivingTime                                 9590 non-null   int64  \n",
      " 10  EstimatedDrivingTime                              9590 non-null   int64  \n",
      " 11  MaxLowAccuracy                                    9590 non-null   int64  \n",
      " 12  NumberOfUnnormalRoutes                            9590 non-null   float64\n",
      " 13  LowAccuracyPerKilometer                           9547 non-null   float64\n",
      "dtypes: float64(7), int64(6), object(1)\n",
      "memory usage: 1.0+ MB\n"
     ]
    }
   ],
   "source": [
    "g = df.groupby(['DeviceId']).sum()\n",
    "grouped_data_raw = g.reset_index()\n",
    "grouped_data_raw.info()"
   ]
  },
  {
   "cell_type": "code",
   "execution_count": 3,
   "metadata": {},
   "outputs": [
    {
     "name": "stdout",
     "output_type": "stream",
     "text": [
      "<class 'pandas.core.frame.DataFrame'>\n",
      "Int64Index: 16531 entries, 1 to 41528\n",
      "Data columns (total 17 columns):\n",
      " #   Column                                            Non-Null Count  Dtype  \n",
      "---  ------                                            --------------  -----  \n",
      " 0   DeviceId                                          16531 non-null  object \n",
      " 1   numberOfRoutes                                    16531 non-null  int64  \n",
      " 2   InitialTrafficVolume                              16531 non-null  object \n",
      " 3   DistanceTraveledInMeters                          16531 non-null  int64  \n",
      " 4   OffRoutePerTenKilometers                          16531 non-null  float64\n",
      " 5   LowAccuracyCounter                                16531 non-null  int64  \n",
      " 6   Rating                                            625 non-null    float64\n",
      " 7   NumberOfTimesSeenUserCountExplanationShort        16531 non-null  float64\n",
      " 8   NumberOfTimesSeenUserCountExplanationLong         16531 non-null  float64\n",
      " 9   NumberOfTimesSeenCollaborativeRoutingExplanation  16531 non-null  float64\n",
      " 10  ActualDrivingTime                                 16531 non-null  int64  \n",
      " 11  EstimatedDrivingTime                              16531 non-null  int64  \n",
      " 12  MaxLowAccuracy                                    16531 non-null  int64  \n",
      " 13  NumberOfUnnormalRoutes                            16531 non-null  float64\n",
      " 14  LowAccuracyPerKilometer                           16531 non-null  float64\n",
      " 15  task                                              16531 non-null  object \n",
      " 16  group_named                                       16531 non-null  object \n",
      "dtypes: float64(7), int64(6), object(4)\n",
      "memory usage: 2.3+ MB\n"
     ]
    }
   ],
   "source": [
    "# Filter for unusable data\n",
    "filtered_data = df\n",
    "\n",
    "filtered_data = filtered_data[filtered_data['DistanceTraveledInMeters']>5000]\n",
    "\n",
    "filtered_data.info()"
   ]
  },
  {
   "cell_type": "code",
   "execution_count": 4,
   "metadata": {},
   "outputs": [
    {
     "name": "stdout",
     "output_type": "stream",
     "text": [
      "<class 'pandas.core.frame.DataFrame'>\n",
      "RangeIndex: 4012 entries, 0 to 4011\n",
      "Data columns (total 4 columns):\n",
      " #   Column          Non-Null Count  Dtype \n",
      "---  ------          --------------  ----- \n",
      " 0   DeviceId        4012 non-null   object\n",
      " 1   task            4012 non-null   object\n",
      " 2   group_named     4012 non-null   object\n",
      " 3   numberOfRoutes  4012 non-null   int64 \n",
      "dtypes: int64(1), object(3)\n",
      "memory usage: 125.5+ KB\n"
     ]
    }
   ],
   "source": [
    "#g = filtered_data.groupby(['DeviceId', 'task']).mean()\n",
    "#grouped_data_filtered = g.reset_index()\n",
    "\n",
    "g = filtered_data.groupby(['DeviceId', 'task', 'group_named']).agg(numberOfRoutes=('DeviceId', 'count'))\n",
    "grouped_data_filtered = g.reset_index()\n",
    "\n",
    "grouped_data_filtered.info()"
   ]
  },
  {
   "cell_type": "code",
   "execution_count": 5,
   "metadata": {},
   "outputs": [
    {
     "data": {
      "text/html": [
       "<div>\n",
       "<style scoped>\n",
       "    .dataframe tbody tr th:only-of-type {\n",
       "        vertical-align: middle;\n",
       "    }\n",
       "\n",
       "    .dataframe tbody tr th {\n",
       "        vertical-align: top;\n",
       "    }\n",
       "\n",
       "    .dataframe thead th {\n",
       "        text-align: right;\n",
       "    }\n",
       "</style>\n",
       "<table border=\"1\" class=\"dataframe\">\n",
       "  <thead>\n",
       "    <tr style=\"text-align: right;\">\n",
       "      <th></th>\n",
       "      <th>group_named</th>\n",
       "      <th>DeviceId</th>\n",
       "    </tr>\n",
       "  </thead>\n",
       "  <tbody>\n",
       "    <tr>\n",
       "      <th>0</th>\n",
       "      <td>Gruppe 1</td>\n",
       "      <td>1778</td>\n",
       "    </tr>\n",
       "    <tr>\n",
       "      <th>1</th>\n",
       "      <td>Gruppe 2</td>\n",
       "      <td>1397</td>\n",
       "    </tr>\n",
       "    <tr>\n",
       "      <th>2</th>\n",
       "      <td>Gruppe 3</td>\n",
       "      <td>468</td>\n",
       "    </tr>\n",
       "    <tr>\n",
       "      <th>3</th>\n",
       "      <td>Gruppe 4</td>\n",
       "      <td>369</td>\n",
       "    </tr>\n",
       "  </tbody>\n",
       "</table>\n",
       "</div>"
      ],
      "text/plain": [
       "  group_named  DeviceId\n",
       "0    Gruppe 1      1778\n",
       "1    Gruppe 2      1397\n",
       "2    Gruppe 3       468\n",
       "3    Gruppe 4       369"
      ]
     },
     "execution_count": 5,
     "metadata": {},
     "output_type": "execute_result"
    }
   ],
   "source": [
    "g = grouped_data_filtered.groupby('group_named')[\"DeviceId\"].count()\n",
    "grouped_data_task = g.reset_index()\n",
    "grouped_data_task.head()"
   ]
  },
  {
   "cell_type": "code",
   "execution_count": 6,
   "metadata": {},
   "outputs": [
    {
     "data": {
      "text/plain": [
       "<module 'matplotlib.pyplot' from '/usr/local/lib/python3.9/site-packages/matplotlib/pyplot.py'>"
      ]
     },
     "execution_count": 6,
     "metadata": {},
     "output_type": "execute_result"
    },
    {
     "data": {
      "image/png": "[encoded data removed]",
      "text/plain": [
       "<Figure size 720x432 with 1 Axes>"
      ]
     },
     "metadata": {},
     "output_type": "display_data"
    }
   ],
   "source": [
    "chartColors=[\"#999999\", \"#8FA6CA\", \"#00509B\", \"#C8D317\", \"#EE6429\", \"#E4AF8E\"]\n",
    "labels = grouped_data_task.group_named.sort_values()\n",
    "\n",
    "pie, ax = plt.subplots(figsize=[10,6])\n",
    "plt.pie(x=grouped_data_task[\"DeviceId\"], autopct=\"%.1f%%\", labels=labels, pctdistance=0.5, colors=chartColors)\n",
    "plt"
   ]
  },
  {
   "cell_type": "code",
   "execution_count": 7,
   "metadata": {},
   "outputs": [],
   "source": [
    "or_data = grouped_data_filtered"
   ]
  },
  {
   "cell_type": "code",
   "execution_count": 8,
   "metadata": {},
   "outputs": [
    {
     "name": "stdout",
     "output_type": "stream",
     "text": [
      "<class 'pandas.core.frame.DataFrame'>\n",
      "Int64Index: 3937 entries, 0 to 4011\n",
      "Data columns (total 4 columns):\n",
      " #   Column          Non-Null Count  Dtype \n",
      "---  ------          --------------  ----- \n",
      " 0   DeviceId        3937 non-null   object\n",
      " 1   task            3937 non-null   object\n",
      " 2   group_named     3937 non-null   object\n",
      " 3   numberOfRoutes  3937 non-null   int64 \n",
      "dtypes: int64(1), object(3)\n",
      "memory usage: 153.8+ KB\n"
     ]
    }
   ],
   "source": [
    "# Remove outliers\n",
    "#\n",
    "# > An outlier of a dataset is defined as a value that is more than 3 standard deviations from the mean.\n",
    "# > Removing outliers from a pandas.DataFrame removes any rows in the DataFrame which contain an outlier.\n",
    "# > Outlier calculations are performed separately for each column.\n",
    "\n",
    "or_data = or_data[np.abs(or_data.numberOfRoutes-or_data.numberOfRoutes.median())<=(3*or_data.numberOfRoutes.std())]\n",
    "\n",
    "or_data.info()"
   ]
  },
  {
   "cell_type": "code",
   "execution_count": 9,
   "metadata": {},
   "outputs": [
    {
     "data": {
      "image/png": "[encoded data removed]",
      "text/plain": [
       "<Figure size 432x288 with 1 Axes>"
      ]
     },
     "metadata": {},
     "output_type": "display_data"
    }
   ],
   "source": [
    "sns.set()\n",
    "sns.boxplot(data=or_data, x=or_data.task, y=or_data.numberOfRoutes, palette=chartColors)\n",
    "plt.savefig('usage_result_overview.pdf')\n",
    "plt.show()"
   ]
  },
  {
   "cell_type": "code",
   "execution_count": 10,
   "metadata": {
    "scrolled": true
   },
   "outputs": [
    {
     "name": "stdout",
     "output_type": "stream",
     "text": [
      "Task  BG  normality result:  ShapiroResult(statistic=0.6933990716934204, pvalue=0.0)\n",
      "Variance:  10.041301120434525\n",
      "Task  AE  normality result:  ShapiroResult(statistic=0.6918646097183228, pvalue=1.401298464324817e-44)\n",
      "Variance:  9.690603322524112\n",
      "Task  NE  normality result:  ShapiroResult(statistic=0.7574802041053772, pvalue=4.599604870577299e-25)\n",
      "Variance:  18.068863245267735\n",
      "Task  GE  normality result:  ShapiroResult(statistic=0.8087303638458252, pvalue=3.3011143272811835e-20)\n",
      "Variance:  15.497578730811837\n"
     ]
    }
   ],
   "source": [
    "#Test groups for normality.\n",
    "\n",
    "experiments = [\"BG\", \"AE\", \"NE\", \"GE\"]\n",
    "\n",
    "for e in experiments:\n",
    "    print(\"Task \", e, \" normality result: \", st.shapiro(or_data[or_data.task==e].numberOfRoutes))\n",
    "    print(\"Variance: \", or_data[or_data.task == e].numberOfRoutes.var())\n"
   ]
  },
  {
   "cell_type": "markdown",
   "metadata": {},
   "source": [
    "p < 0.05 -> we can reject the 0-Hypotheses.\n",
    "\n",
    "Groups are not normally distributed thus we have to take Kruskal Wallis instead of ANONVA"
   ]
  },
  {
   "cell_type": "code",
   "execution_count": 11,
   "metadata": {},
   "outputs": [
    {
     "name": "stdout",
     "output_type": "stream",
     "text": [
      "        Source  ddof1          H         p-unc\n",
      "Kruskal   task      3  72.392588  1.311644e-15\n"
     ]
    }
   ],
   "source": [
    "import pingouin as pg\n",
    "\n",
    "res = pg.kruskal(data=or_data, dv='numberOfRoutes', between='task')\n",
    "\n",
    "print(res)"
   ]
  },
  {
   "cell_type": "markdown",
   "metadata": {},
   "source": [
    "p < 0.05 --> we can reject the 0-Hypothesis."
   ]
  },
  {
   "cell_type": "code",
   "execution_count": 12,
   "metadata": {
    "scrolled": true
   },
   "outputs": [
    {
     "data": {
      "image/png": "[encoded data removed]",
      "text/plain": [
       "<Figure size 432x288 with 2 Axes>"
      ]
     },
     "metadata": {},
     "output_type": "display_data"
    },
    {
     "name": "stdout",
     "output_type": "stream",
     "text": [
      "              Gruppe 1      Gruppe 2      Gruppe 3      Gruppe 4\n",
      "Gruppe 1  1.000000e+00  1.000000e+00  4.746580e-09  7.528428e-09\n",
      "Gruppe 2  1.000000e+00  1.000000e+00  1.977438e-08  2.523727e-08\n",
      "Gruppe 3  4.746580e-09  1.977438e-08  1.000000e+00  1.000000e+00\n",
      "Gruppe 4  7.528428e-09  2.523727e-08  1.000000e+00  1.000000e+00\n",
      "Mean BG:  3.2233618233618233 BG:  2.0  STD:  3.1688012118835296 \n",
      "Mean AE:  3.1976828385228098 AE:  2.0  STD:  3.1129733893054903 \n",
      "Mean NE:  4.4224719101123595 NE:  3.0  STD:  4.250748551169281 \n",
      "Mean GE:  4.438202247191011 GE:  3.0  STD:  3.9366964235017967 \n"
     ]
    }
   ],
   "source": [
    "import scipy.stats as st\n",
    "import scikit_posthocs as sp\n",
    "from statsmodels.stats.anova import AnovaRM\n",
    "\n",
    "#pairwise testing:\n",
    "\n",
    "pc = sp.posthoc_dunn(or_data, val_col=\"numberOfRoutes\", group_col='group_named', p_adjust=\"bonferroni\")\n",
    "\n",
    "\n",
    "heatmap_args = {'linewidths': 0.25, 'linecolor': '0.5', 'clip_on': False, 'square': True, 'cbar_ax_bbox': [0.80, 0.35, 0.04, 0.3]}\n",
    "sp.sign_plot(pc, **heatmap_args)\n",
    "plt.savefig('usage_result_significance.pdf')\n",
    "plt.show()\n",
    "print(pc)\n",
    "\n",
    "print(\"Mean BG: \", or_data[or_data.task == \"BG\"].numberOfRoutes.mean(), \"BG: \", or_data[or_data.task == \"BG\"].numberOfRoutes.median(), \" STD: \", or_data[or_data.task == \"BG\"].numberOfRoutes.std(),\"\")\n",
    "print(\"Mean AE: \", or_data[or_data.task == \"AE\"].numberOfRoutes.mean(), \"AE: \", or_data[or_data.task == \"AE\"].numberOfRoutes.median(), \" STD: \", or_data[or_data.task == \"AE\"].numberOfRoutes.std(),\"\")\n",
    "print(\"Mean NE: \", or_data[or_data.task == \"NE\"].numberOfRoutes.mean(), \"NE: \", or_data[or_data.task == \"NE\"].numberOfRoutes.median(), \" STD: \", or_data[or_data.task == \"NE\"].numberOfRoutes.std(),\"\")\n",
    "print(\"Mean GE: \", or_data[or_data.task == \"GE\"].numberOfRoutes.mean(), \"GE: \", or_data[or_data.task == \"GE\"].numberOfRoutes.median(), \" STD: \", or_data[or_data.task == \"GE\"].numberOfRoutes.std(),\"\")\n"
   ]
  }
 ],
 "metadata": {
  "kernelspec": {
   "display_name": "Python 3 (ipykernel)",
   "language": "python",
   "name": "python3"
  },
  "language_info": {
   "codemirror_mode": {
    "name": "ipython",
    "version": 3
   },
   "file_extension": ".py",
   "mimetype": "text/x-python",
   "name": "python",
   "nbconvert_exporter": "python",
   "pygments_lexer": "ipython3",
   "version": "3.9.6"
  }
 },
 "nbformat": 4,
 "nbformat_minor": 2
}
