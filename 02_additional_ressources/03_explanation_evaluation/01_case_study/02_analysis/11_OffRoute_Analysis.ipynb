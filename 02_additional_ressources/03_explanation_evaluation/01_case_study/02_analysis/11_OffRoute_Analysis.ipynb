{
 "cells": [
  {
   "cell_type": "code",
   "execution_count": 1,
   "metadata": {},
   "outputs": [
    {
     "name": "stdout",
     "output_type": "stream",
     "text": [
      "<class 'pandas.core.frame.DataFrame'>\n",
      "Int64Index: 41540 entries, 0 to 41539\n",
      "Data columns (total 17 columns):\n",
      " #   Column                                            Non-Null Count  Dtype  \n",
      "---  ------                                            --------------  -----  \n",
      " 0   DeviceId                                          41540 non-null  object \n",
      " 1   numberOfRoutes                                    41540 non-null  int64  \n",
      " 2   InitialTrafficVolume                              41540 non-null  object \n",
      " 3   DistanceTraveledInMeters                          41540 non-null  int64  \n",
      " 4   OffRoutePerTenKilometers                          41540 non-null  float64\n",
      " 5   LowAccuracyCounter                                41540 non-null  int64  \n",
      " 6   Rating                                            696 non-null    float64\n",
      " 7   NumberOfTimesSeenUserCountExplanationShort        41540 non-null  float64\n",
      " 8   NumberOfTimesSeenUserCountExplanationLong         41540 non-null  float64\n",
      " 9   NumberOfTimesSeenCollaborativeRoutingExplanation  41540 non-null  float64\n",
      " 10  ActualDrivingTime                                 41540 non-null  int64  \n",
      " 11  EstimatedDrivingTime                              41540 non-null  int64  \n",
      " 12  MaxLowAccuracy                                    41540 non-null  int64  \n",
      " 13  NumberOfUnnormalRoutes                            41540 non-null  float64\n",
      " 14  LowAccuracyPerKilometer                           41540 non-null  float64\n",
      " 15  task                                              41540 non-null  object \n",
      " 16  group_named                                       41540 non-null  object \n",
      "dtypes: float64(7), int64(6), object(4)\n",
      "memory usage: 5.7+ MB\n"
     ]
    }
   ],
   "source": [
    "import pandas as pd\n",
    "import seaborn as sns\n",
    "import matplotlib.pyplot as plt\n",
    "import scipy.stats as st\n",
    "import numpy as np\n",
    "\n",
    "%matplotlib inline\n",
    "\n",
    "# Import data\n",
    "df = pd.read_csv(\"data/data_cummulative.csv\");\n",
    "\n",
    "# Set user groups from enabled features\n",
    "\n",
    "# Abbreviations:\n",
    "# - BG: User got no explanations (base group).\n",
    "# - AE: User got explanations about the routing algorithm (alogorithm explanations).\n",
    "# - NE: User got explanations depending on the active navigation (navigation explanations).\n",
    "# - GE: User got both types of explanations (grouped explanations).\n",
    "\n",
    "df.loc[(df['LowAccuracyCounter'].isna()), 'LowAccuracyCounter'] = 0\n",
    "df.loc[(df['MaxLowAccuracy'].isna()), 'MaxLowAccuracy'] = 0\n",
    "df.loc[(df['NumberOfUnnormalRoutes'].isna()), 'NumberOfUnnormalRoutes'] = 0\n",
    "df.loc[(df['OffRoutePerTenKilometers'].isna()), 'OffRoutePerTenKilometers'] = 0\n",
    "df.loc[(df['DistanceTraveledInMeters'].isna()), 'DistanceTraveledInMeters'] = 0\n",
    "df.loc[(df['NumberOfTimesSeenUserCountExplanationShort'].isna()), 'NumberOfTimesSeenUserCountExplanationShort'] = 0\n",
    "df.loc[(df['NumberOfTimesSeenUserCountExplanationLong'].isna()), 'NumberOfTimesSeenUserCountExplanationLong'] = 0\n",
    "df.loc[(df['NumberOfTimesSeenCollaborativeRoutingExplanation'].isna()), 'NumberOfTimesSeenCollaborativeRoutingExplanation'] = 0\n",
    "\n",
    "df[\"LowAccuracyPerKilometer\"] = df[\"LowAccuracyCounter\"] / (df[\"DistanceTraveledInMeters\"] / 1000)\n",
    "df.loc[(df['LowAccuracyPerKilometer'].isna()), 'LowAccuracyPerKilometer'] = 0\n",
    "\n",
    "df.loc[(df['GpsQuality'] == False) & (df['TrafficVolume'] == False) & (df['RouteExplanation'] == False) & (df['UserCount'] == False), 'task'] = \"BG\"\n",
    "df.loc[(df['GpsQuality'] == False) & (df['TrafficVolume'] == False) & (df['RouteExplanation'] == True) & (df['UserCount'] == True), 'task'] = \"AE\"\n",
    "df.loc[(df['GpsQuality'] == True) & (df['TrafficVolume'] == True) & ((df['LowAccuracyCounter'] > 0) | (df['InitialTrafficVolume'] != \"Normal\")) & (df['RouteExplanation'] == False) & (df['UserCount'] == False), 'task'] = \"NE\"\n",
    "df.loc[(df['GpsQuality'] == True) & (df['TrafficVolume'] == True) & ((df['LowAccuracyCounter'] > 0) | (df['InitialTrafficVolume'] != \"Normal\")) & (df['RouteExplanation'] == True) & (df['UserCount'] == True), 'task'] = \"GE\"\n",
    "df.loc[(df['GpsQuality'] == True) & (df['TrafficVolume'] == True) & ((df['LowAccuracyCounter'] <= 0) & (df['InitialTrafficVolume'] == \"Normal\")) & (df['RouteExplanation'] == False) & (df['UserCount'] == False), 'task'] = \"NE\"\n",
    "df.loc[(df['GpsQuality'] == True) & (df['TrafficVolume'] == True) & ((df['LowAccuracyCounter'] <= 0) & (df['InitialTrafficVolume'] == \"Normal\")) & (df['RouteExplanation'] == True) & (df['UserCount'] == True), 'task'] = \"GE\"\n",
    "\n",
    "df.loc[(df['task'] == \"BG\"), 'group_named'] = \"Gruppe 1\"\n",
    "df.loc[(df['task'] == \"AE\"), 'group_named'] = \"Gruppe 2\"\n",
    "df.loc[(df['task'] == \"NE\"), 'group_named'] = \"Gruppe 3\"\n",
    "df.loc[(df['task'] == \"GE\"), 'group_named'] = \"Gruppe 4\"\n",
    "\n",
    "df = df[df['task'].notna()]\n",
    "\n",
    "# Remove fields with redundant information\n",
    "df = df.drop(columns=['GpsQuality', 'TrafficVolume', 'RouteExplanation', 'UserCount'])\n",
    "\n",
    "df.info()"
   ]
  },
  {
   "cell_type": "code",
   "execution_count": 2,
   "metadata": {},
   "outputs": [
    {
     "name": "stdout",
     "output_type": "stream",
     "text": [
      "<class 'pandas.core.frame.DataFrame'>\n",
      "RangeIndex: 9745 entries, 0 to 9744\n",
      "Data columns (total 15 columns):\n",
      " #   Column                                            Non-Null Count  Dtype  \n",
      "---  ------                                            --------------  -----  \n",
      " 0   DeviceId                                          9745 non-null   object \n",
      " 1   group_named                                       9745 non-null   object \n",
      " 2   numberOfRoutes                                    9745 non-null   float64\n",
      " 3   DistanceTraveledInMeters                          9745 non-null   float64\n",
      " 4   OffRoutePerTenKilometers                          9745 non-null   float64\n",
      " 5   LowAccuracyCounter                                9745 non-null   float64\n",
      " 6   Rating                                            201 non-null    float64\n",
      " 7   NumberOfTimesSeenUserCountExplanationShort        9745 non-null   float64\n",
      " 8   NumberOfTimesSeenUserCountExplanationLong         9745 non-null   float64\n",
      " 9   NumberOfTimesSeenCollaborativeRoutingExplanation  9745 non-null   float64\n",
      " 10  ActualDrivingTime                                 9745 non-null   float64\n",
      " 11  EstimatedDrivingTime                              9745 non-null   float64\n",
      " 12  MaxLowAccuracy                                    9745 non-null   float64\n",
      " 13  NumberOfUnnormalRoutes                            9745 non-null   float64\n",
      " 14  LowAccuracyPerKilometer                           9702 non-null   float64\n",
      "dtypes: float64(13), object(2)\n",
      "memory usage: 1.1+ MB\n"
     ]
    }
   ],
   "source": [
    "g = df.groupby(['DeviceId', 'group_named']).mean()\n",
    "grouped_data_raw = g.reset_index()\n",
    "\n",
    "grouped_data_raw.info()"
   ]
  },
  {
   "cell_type": "code",
   "execution_count": 3,
   "metadata": {},
   "outputs": [
    {
     "name": "stdout",
     "output_type": "stream",
     "text": [
      "<class 'pandas.core.frame.DataFrame'>\n",
      "RangeIndex: 9745 entries, 0 to 9744\n",
      "Data columns (total 16 columns):\n",
      " #   Column                                            Non-Null Count  Dtype  \n",
      "---  ------                                            --------------  -----  \n",
      " 0   DeviceId                                          9745 non-null   object \n",
      " 1   group_named                                       9745 non-null   object \n",
      " 2   task                                              9745 non-null   object \n",
      " 3   numberOfRoutes                                    9745 non-null   float64\n",
      " 4   DistanceTraveledInMeters                          9745 non-null   float64\n",
      " 5   OffRoutePerTenKilometers                          9745 non-null   float64\n",
      " 6   LowAccuracyCounter                                9745 non-null   float64\n",
      " 7   Rating                                            201 non-null    float64\n",
      " 8   NumberOfTimesSeenUserCountExplanationShort        9745 non-null   float64\n",
      " 9   NumberOfTimesSeenUserCountExplanationLong         9745 non-null   float64\n",
      " 10  NumberOfTimesSeenCollaborativeRoutingExplanation  9745 non-null   float64\n",
      " 11  ActualDrivingTime                                 9745 non-null   float64\n",
      " 12  EstimatedDrivingTime                              9745 non-null   float64\n",
      " 13  MaxLowAccuracy                                    9745 non-null   float64\n",
      " 14  NumberOfUnnormalRoutes                            9745 non-null   float64\n",
      " 15  LowAccuracyPerKilometer                           9702 non-null   float64\n",
      "dtypes: float64(13), object(3)\n",
      "memory usage: 1.2+ MB\n"
     ]
    }
   ],
   "source": [
    "g = df.groupby(['DeviceId', 'group_named', 'task']).mean()\n",
    "grouped_data = g.reset_index()\n",
    "grouped_data.info()"
   ]
  },
  {
   "cell_type": "code",
   "execution_count": 4,
   "metadata": {},
   "outputs": [
    {
     "name": "stdout",
     "output_type": "stream",
     "text": [
      "<class 'pandas.core.frame.DataFrame'>\n",
      "Int64Index: 16314 entries, 1 to 41528\n",
      "Data columns (total 17 columns):\n",
      " #   Column                                            Non-Null Count  Dtype  \n",
      "---  ------                                            --------------  -----  \n",
      " 0   DeviceId                                          16314 non-null  object \n",
      " 1   numberOfRoutes                                    16314 non-null  int64  \n",
      " 2   InitialTrafficVolume                              16314 non-null  object \n",
      " 3   DistanceTraveledInMeters                          16314 non-null  int64  \n",
      " 4   OffRoutePerTenKilometers                          16314 non-null  float64\n",
      " 5   LowAccuracyCounter                                16314 non-null  int64  \n",
      " 6   Rating                                            618 non-null    float64\n",
      " 7   NumberOfTimesSeenUserCountExplanationShort        16314 non-null  float64\n",
      " 8   NumberOfTimesSeenUserCountExplanationLong         16314 non-null  float64\n",
      " 9   NumberOfTimesSeenCollaborativeRoutingExplanation  16314 non-null  float64\n",
      " 10  ActualDrivingTime                                 16314 non-null  int64  \n",
      " 11  EstimatedDrivingTime                              16314 non-null  int64  \n",
      " 12  MaxLowAccuracy                                    16314 non-null  int64  \n",
      " 13  NumberOfUnnormalRoutes                            16314 non-null  float64\n",
      " 14  LowAccuracyPerKilometer                           16314 non-null  float64\n",
      " 15  task                                              16314 non-null  object \n",
      " 16  group_named                                       16314 non-null  object \n",
      "dtypes: float64(7), int64(6), object(4)\n",
      "memory usage: 2.2+ MB\n"
     ]
    }
   ],
   "source": [
    "# Filter for unusable data\n",
    "filtered_data = df\n",
    "\n",
    "filtered_data = filtered_data[filtered_data['DistanceTraveledInMeters']>5000]\n",
    "filtered_data = filtered_data[filtered_data['LowAccuracyPerKilometer']<0.2]\n",
    "\n",
    "filtered_data.info()"
   ]
  },
  {
   "cell_type": "code",
   "execution_count": 5,
   "metadata": {},
   "outputs": [
    {
     "name": "stdout",
     "output_type": "stream",
     "text": [
      "<class 'pandas.core.frame.DataFrame'>\n",
      "RangeIndex: 3975 entries, 0 to 3974\n",
      "Data columns (total 16 columns):\n",
      " #   Column                                            Non-Null Count  Dtype  \n",
      "---  ------                                            --------------  -----  \n",
      " 0   DeviceId                                          3975 non-null   object \n",
      " 1   group_named                                       3975 non-null   object \n",
      " 2   task                                              3975 non-null   object \n",
      " 3   numberOfRoutes                                    3975 non-null   float64\n",
      " 4   DistanceTraveledInMeters                          3975 non-null   float64\n",
      " 5   OffRoutePerTenKilometers                          3975 non-null   float64\n",
      " 6   LowAccuracyCounter                                3975 non-null   float64\n",
      " 7   Rating                                            181 non-null    float64\n",
      " 8   NumberOfTimesSeenUserCountExplanationShort        3975 non-null   float64\n",
      " 9   NumberOfTimesSeenUserCountExplanationLong         3975 non-null   float64\n",
      " 10  NumberOfTimesSeenCollaborativeRoutingExplanation  3975 non-null   float64\n",
      " 11  ActualDrivingTime                                 3975 non-null   float64\n",
      " 12  EstimatedDrivingTime                              3975 non-null   float64\n",
      " 13  MaxLowAccuracy                                    3975 non-null   float64\n",
      " 14  NumberOfUnnormalRoutes                            3975 non-null   float64\n",
      " 15  LowAccuracyPerKilometer                           3975 non-null   float64\n",
      "dtypes: float64(13), object(3)\n",
      "memory usage: 497.0+ KB\n"
     ]
    }
   ],
   "source": [
    "g = filtered_data.groupby(['DeviceId', 'group_named', 'task']).mean()\n",
    "grouped_data_filtered = g.reset_index()\n",
    "grouped_data_filtered.info()"
   ]
  },
  {
   "cell_type": "code",
   "execution_count": 6,
   "metadata": {},
   "outputs": [
    {
     "data": {
      "text/html": [
       "<div>\n",
       "<style scoped>\n",
       "    .dataframe tbody tr th:only-of-type {\n",
       "        vertical-align: middle;\n",
       "    }\n",
       "\n",
       "    .dataframe tbody tr th {\n",
       "        vertical-align: top;\n",
       "    }\n",
       "\n",
       "    .dataframe thead th {\n",
       "        text-align: right;\n",
       "    }\n",
       "</style>\n",
       "<table border=\"1\" class=\"dataframe\">\n",
       "  <thead>\n",
       "    <tr style=\"text-align: right;\">\n",
       "      <th></th>\n",
       "      <th>group_named</th>\n",
       "      <th>DeviceId</th>\n",
       "    </tr>\n",
       "  </thead>\n",
       "  <tbody>\n",
       "    <tr>\n",
       "      <th>0</th>\n",
       "      <td>Gruppe 1</td>\n",
       "      <td>4725</td>\n",
       "    </tr>\n",
       "    <tr>\n",
       "      <th>1</th>\n",
       "      <td>Gruppe 2</td>\n",
       "      <td>3377</td>\n",
       "    </tr>\n",
       "    <tr>\n",
       "      <th>2</th>\n",
       "      <td>Gruppe 3</td>\n",
       "      <td>4499</td>\n",
       "    </tr>\n",
       "    <tr>\n",
       "      <th>3</th>\n",
       "      <td>Gruppe 4</td>\n",
       "      <td>3713</td>\n",
       "    </tr>\n",
       "  </tbody>\n",
       "</table>\n",
       "</div>"
      ],
      "text/plain": [
       "  group_named  DeviceId\n",
       "0    Gruppe 1      4725\n",
       "1    Gruppe 2      3377\n",
       "2    Gruppe 3      4499\n",
       "3    Gruppe 4      3713"
      ]
     },
     "execution_count": 6,
     "metadata": {},
     "output_type": "execute_result"
    }
   ],
   "source": [
    "g = filtered_data.groupby('group_named')[\"DeviceId\"].count()\n",
    "grouped_data_task = g.reset_index()\n",
    "grouped_data_task.head()"
   ]
  },
  {
   "cell_type": "code",
   "execution_count": 7,
   "metadata": {},
   "outputs": [
    {
     "data": {
      "text/plain": [
       "<module 'matplotlib.pyplot' from '/usr/local/lib/python3.9/site-packages/matplotlib/pyplot.py'>"
      ]
     },
     "execution_count": 7,
     "metadata": {},
     "output_type": "execute_result"
    },
    {
     "data": {
      "image/png": "[encoded data removed]",
      "text/plain": [
       "<Figure size 720x432 with 1 Axes>"
      ]
     },
     "metadata": {},
     "output_type": "display_data"
    }
   ],
   "source": [
    "chartColors=[\"#999999\", \"#8FA6CA\", \"#00509B\", \"#C8D317\", \"#EE6429\", \"#E4AF8E\"]\n",
    "labels = grouped_data_task.group_named.sort_values()\n",
    "\n",
    "pie, ax = plt.subplots(figsize=[10,6])\n",
    "plt.pie(x=grouped_data_task[\"DeviceId\"], autopct=\"%.1f%%\", labels=labels, pctdistance=0.5, colors=chartColors)\n",
    "plt"
   ]
  },
  {
   "cell_type": "code",
   "execution_count": 8,
   "metadata": {},
   "outputs": [
    {
     "name": "stdout",
     "output_type": "stream",
     "text": [
      "<class 'pandas.core.frame.DataFrame'>\n",
      "Int64Index: 16314 entries, 1 to 41528\n",
      "Data columns (total 17 columns):\n",
      " #   Column                                            Non-Null Count  Dtype  \n",
      "---  ------                                            --------------  -----  \n",
      " 0   DeviceId                                          16314 non-null  object \n",
      " 1   numberOfRoutes                                    16314 non-null  int64  \n",
      " 2   InitialTrafficVolume                              16314 non-null  object \n",
      " 3   DistanceTraveledInMeters                          16314 non-null  int64  \n",
      " 4   OffRoutePerTenKilometers                          16314 non-null  float64\n",
      " 5   LowAccuracyCounter                                16314 non-null  int64  \n",
      " 6   Rating                                            618 non-null    float64\n",
      " 7   NumberOfTimesSeenUserCountExplanationShort        16314 non-null  float64\n",
      " 8   NumberOfTimesSeenUserCountExplanationLong         16314 non-null  float64\n",
      " 9   NumberOfTimesSeenCollaborativeRoutingExplanation  16314 non-null  float64\n",
      " 10  ActualDrivingTime                                 16314 non-null  int64  \n",
      " 11  EstimatedDrivingTime                              16314 non-null  int64  \n",
      " 12  MaxLowAccuracy                                    16314 non-null  int64  \n",
      " 13  NumberOfUnnormalRoutes                            16314 non-null  float64\n",
      " 14  LowAccuracyPerKilometer                           16314 non-null  float64\n",
      " 15  task                                              16314 non-null  object \n",
      " 16  group_named                                       16314 non-null  object \n",
      "dtypes: float64(7), int64(6), object(4)\n",
      "memory usage: 2.2+ MB\n"
     ]
    }
   ],
   "source": [
    "# Only use data relevant for offroute analysis\n",
    "\n",
    "or_data = filtered_data\n",
    "\n",
    "or_data.info()"
   ]
  },
  {
   "cell_type": "code",
   "execution_count": 9,
   "metadata": {},
   "outputs": [
    {
     "name": "stdout",
     "output_type": "stream",
     "text": [
      "<class 'pandas.core.frame.DataFrame'>\n",
      "Int64Index: 16149 entries, 1 to 41528\n",
      "Data columns (total 17 columns):\n",
      " #   Column                                            Non-Null Count  Dtype  \n",
      "---  ------                                            --------------  -----  \n",
      " 0   DeviceId                                          16149 non-null  object \n",
      " 1   numberOfRoutes                                    16149 non-null  int64  \n",
      " 2   InitialTrafficVolume                              16149 non-null  object \n",
      " 3   DistanceTraveledInMeters                          16149 non-null  int64  \n",
      " 4   OffRoutePerTenKilometers                          16149 non-null  float64\n",
      " 5   LowAccuracyCounter                                16149 non-null  int64  \n",
      " 6   Rating                                            616 non-null    float64\n",
      " 7   NumberOfTimesSeenUserCountExplanationShort        16149 non-null  float64\n",
      " 8   NumberOfTimesSeenUserCountExplanationLong         16149 non-null  float64\n",
      " 9   NumberOfTimesSeenCollaborativeRoutingExplanation  16149 non-null  float64\n",
      " 10  ActualDrivingTime                                 16149 non-null  int64  \n",
      " 11  EstimatedDrivingTime                              16149 non-null  int64  \n",
      " 12  MaxLowAccuracy                                    16149 non-null  int64  \n",
      " 13  NumberOfUnnormalRoutes                            16149 non-null  float64\n",
      " 14  LowAccuracyPerKilometer                           16149 non-null  float64\n",
      " 15  task                                              16149 non-null  object \n",
      " 16  group_named                                       16149 non-null  object \n",
      "dtypes: float64(7), int64(6), object(4)\n",
      "memory usage: 2.2+ MB\n"
     ]
    }
   ],
   "source": [
    "# Remove outliers\n",
    "#\n",
    "# > An outlier of a dataset is defined as a value that is more than 3 standard deviations from the mean.\n",
    "# > Removing outliers from a pandas.DataFrame removes any rows in the DataFrame which contain an outlier.\n",
    "# > Outlier calculations are performed separately for each column.\n",
    "\n",
    "or_data = or_data[np.abs(or_data.OffRoutePerTenKilometers-or_data.OffRoutePerTenKilometers.median())<=(3*or_data.OffRoutePerTenKilometers.std())]\n",
    "\n",
    "or_data.info()"
   ]
  },
  {
   "cell_type": "code",
   "execution_count": 10,
   "metadata": {},
   "outputs": [
    {
     "data": {
      "image/png": "[encoded data removed]",
      "text/plain": [
       "<Figure size 432x288 with 1 Axes>"
      ]
     },
     "metadata": {},
     "output_type": "display_data"
    }
   ],
   "source": [
    "with sns.axes_style(\"darkgrid\"):\n",
    "    sns.set()\n",
    "    sns.boxplot(data=df, x=or_data.group_named, y=or_data.OffRoutePerTenKilometers, order=[\"Gruppe 1\", \"Gruppe 2\", \"Gruppe 3\", \"Gruppe 4\"], palette=chartColors).set(\n",
    "        xlabel='Studiengruppe', \n",
    "        ylabel='Offroutes pro Kilometer'\n",
    "    )\n",
    "    plt.savefig('off_route_result_overview.pdf')\n",
    "    plt.show()\n"
   ]
  },
  {
   "cell_type": "code",
   "execution_count": 11,
   "metadata": {},
   "outputs": [
    {
     "name": "stdout",
     "output_type": "stream",
     "text": [
      "Task  BG  normality result:  ShapiroResult(statistic=0.562873125076294, pvalue=0.0)\n",
      "Variance:  0.01671686858978522\n",
      "Task  AE  normality result:  ShapiroResult(statistic=0.5934045314788818, pvalue=0.0)\n",
      "Variance:  0.016187288382693794\n",
      "Task  NE  normality result:  ShapiroResult(statistic=0.5683383941650391, pvalue=0.0)\n",
      "Variance:  0.018509381024186342\n",
      "Task  GE  normality result:  ShapiroResult(statistic=0.5524904131889343, pvalue=0.0)\n",
      "Variance:  0.016356166819756983\n"
     ]
    }
   ],
   "source": [
    "#Test groups for normality.\n",
    "\n",
    "experiments = [\"BG\", \"AE\", \"NE\", \"GE\"]\n",
    "\n",
    "for e in experiments:\n",
    "    print(\"Task \", e, \" normality result: \", st.shapiro(or_data[or_data.task==e].OffRoutePerTenKilometers))\n",
    "    print(\"Variance: \", or_data[or_data.task == e].OffRoutePerTenKilometers.var())\n"
   ]
  },
  {
   "cell_type": "markdown",
   "metadata": {},
   "source": [
    "p < 0.05 -> we can reject the 0-Hypotheses.\n",
    "\n",
    "Groups are not normally distributed thus we have to take Kruskal Wallis instead of ANONVA"
   ]
  },
  {
   "cell_type": "code",
   "execution_count": 12,
   "metadata": {},
   "outputs": [
    {
     "name": "stdout",
     "output_type": "stream",
     "text": [
      "        Source  ddof1          H     p-unc\n",
      "Kruskal   task      3  27.310418  0.000005\n"
     ]
    }
   ],
   "source": [
    "import pingouin as pg\n",
    "\n",
    "res = pg.kruskal(data=or_data, dv='OffRoutePerTenKilometers', between='task')\n",
    "\n",
    "print(res)"
   ]
  },
  {
   "cell_type": "markdown",
   "metadata": {},
   "source": [
    "p < 0.05 --> we can reject the 0-Hypothesis."
   ]
  },
  {
   "cell_type": "code",
   "execution_count": 13,
   "metadata": {
    "scrolled": true
   },
   "outputs": [
    {
     "data": {
      "image/png": "[encoded data removed]",
      "text/plain": [
       "<Figure size 432x288 with 2 Axes>"
      ]
     },
     "metadata": {
      "needs_background": "light"
     },
     "output_type": "display_data"
    },
    {
     "name": "stdout",
     "output_type": "stream",
     "text": [
      "          Gruppe 1  Gruppe 2  Gruppe 3  Gruppe 4\n",
      "Gruppe 1  1.000000  0.058917  1.000000  0.021712\n",
      "Gruppe 2  0.058917  1.000000  0.296783  0.000002\n",
      "Gruppe 3  1.000000  0.296783  1.000000  0.002947\n",
      "Gruppe 4  0.021712  0.000002  0.002947  1.000000\n",
      "Mean BG:  0.0753290481209403 BG:  0.0319824553387855  STD:  0.12929372989354596 \n",
      "Mean AE:  0.07855468964540499 AE:  0.03547179509662015  STD:  0.1272292748650789 \n",
      "Mean NE:  0.07904298108192226 NE:  0.03174066006831055  STD:  0.1360491860474966 \n",
      "Mean GE:  0.07197611620183898 GE:  0.02865165470571035  STD:  0.1278912304255338 \n"
     ]
    }
   ],
   "source": [
    "import scipy.stats as st\n",
    "import scikit_posthocs as sp\n",
    "from statsmodels.stats.anova import AnovaRM\n",
    "\n",
    "#pairwise testing:\n",
    "\n",
    "pc = sp.posthoc_dunn(or_data, val_col=\"OffRoutePerTenKilometers\", group_col='group_named', p_adjust=\"bonferroni\")\n",
    "\n",
    "\n",
    "heatmap_args = {'linewidths': 0.25, 'linecolor': '0.5', 'clip_on': False, 'square': True, 'cbar_ax_bbox': [0.80, 0.35, 0.04, 0.3]}\n",
    "sp.sign_plot(pc, **heatmap_args)\n",
    "plt.savefig('off_route_result_significance.pdf')\n",
    "plt.show()\n",
    "print(pc)\n",
    "\n",
    "print(\"Mean BG: \", or_data[or_data.task == \"BG\"].OffRoutePerTenKilometers.mean(), \"BG: \", or_data[or_data.task == \"BG\"].OffRoutePerTenKilometers.median(), \" STD: \", or_data[or_data.task == \"BG\"].OffRoutePerTenKilometers.std(),\"\")\n",
    "print(\"Mean AE: \", or_data[or_data.task == \"AE\"].OffRoutePerTenKilometers.mean(), \"AE: \", or_data[or_data.task == \"AE\"].OffRoutePerTenKilometers.median(), \" STD: \", or_data[or_data.task == \"AE\"].OffRoutePerTenKilometers.std(),\"\")\n",
    "print(\"Mean NE: \", or_data[or_data.task == \"NE\"].OffRoutePerTenKilometers.mean(), \"NE: \", or_data[or_data.task == \"NE\"].OffRoutePerTenKilometers.median(), \" STD: \", or_data[or_data.task == \"NE\"].OffRoutePerTenKilometers.std(),\"\")\n",
    "print(\"Mean GE: \", or_data[or_data.task == \"GE\"].OffRoutePerTenKilometers.mean(), \"GE: \", or_data[or_data.task == \"GE\"].OffRoutePerTenKilometers.median(), \" STD: \", or_data[or_data.task == \"GE\"].OffRoutePerTenKilometers.std(),\"\")\n"
   ]
  },
  {
   "cell_type": "code",
   "execution_count": 14,
   "metadata": {},
   "outputs": [
    {
     "data": {
      "text/html": [
       "<div>\n",
       "<style scoped>\n",
       "    .dataframe tbody tr th:only-of-type {\n",
       "        vertical-align: middle;\n",
       "    }\n",
       "\n",
       "    .dataframe tbody tr th {\n",
       "        vertical-align: top;\n",
       "    }\n",
       "\n",
       "    .dataframe thead th {\n",
       "        text-align: right;\n",
       "    }\n",
       "</style>\n",
       "<table border=\"1\" class=\"dataframe\">\n",
       "  <thead>\n",
       "    <tr style=\"text-align: right;\">\n",
       "      <th></th>\n",
       "      <th>A</th>\n",
       "      <th>B</th>\n",
       "      <th>mean(A)</th>\n",
       "      <th>mean(B)</th>\n",
       "      <th>diff</th>\n",
       "      <th>se</th>\n",
       "      <th>T</th>\n",
       "      <th>p-tukey</th>\n",
       "      <th>hedges</th>\n",
       "    </tr>\n",
       "  </thead>\n",
       "  <tbody>\n",
       "    <tr>\n",
       "      <th>0</th>\n",
       "      <td>AE</td>\n",
       "      <td>BG</td>\n",
       "      <td>0.078555</td>\n",
       "      <td>0.075329</td>\n",
       "      <td>0.003226</td>\n",
       "      <td>0.002956</td>\n",
       "      <td>1.091108</td>\n",
       "      <td>0.672717</td>\n",
       "      <td>0.024722</td>\n",
       "    </tr>\n",
       "    <tr>\n",
       "      <th>1</th>\n",
       "      <td>AE</td>\n",
       "      <td>GE</td>\n",
       "      <td>0.078555</td>\n",
       "      <td>0.071976</td>\n",
       "      <td>0.006579</td>\n",
       "      <td>0.003121</td>\n",
       "      <td>2.107868</td>\n",
       "      <td>0.150608</td>\n",
       "      <td>0.050419</td>\n",
       "    </tr>\n",
       "    <tr>\n",
       "      <th>2</th>\n",
       "      <td>AE</td>\n",
       "      <td>NE</td>\n",
       "      <td>0.078555</td>\n",
       "      <td>0.079043</td>\n",
       "      <td>-0.000488</td>\n",
       "      <td>0.002987</td>\n",
       "      <td>-0.163479</td>\n",
       "      <td>0.900000</td>\n",
       "      <td>-0.003742</td>\n",
       "    </tr>\n",
       "    <tr>\n",
       "      <th>3</th>\n",
       "      <td>BG</td>\n",
       "      <td>GE</td>\n",
       "      <td>0.075329</td>\n",
       "      <td>0.071976</td>\n",
       "      <td>0.003353</td>\n",
       "      <td>0.002876</td>\n",
       "      <td>1.165944</td>\n",
       "      <td>0.630714</td>\n",
       "      <td>0.025698</td>\n",
       "    </tr>\n",
       "    <tr>\n",
       "      <th>4</th>\n",
       "      <td>BG</td>\n",
       "      <td>NE</td>\n",
       "      <td>0.075329</td>\n",
       "      <td>0.079043</td>\n",
       "      <td>-0.003714</td>\n",
       "      <td>0.002730</td>\n",
       "      <td>-1.360604</td>\n",
       "      <td>0.521453</td>\n",
       "      <td>-0.028465</td>\n",
       "    </tr>\n",
       "    <tr>\n",
       "      <th>5</th>\n",
       "      <td>GE</td>\n",
       "      <td>NE</td>\n",
       "      <td>0.071976</td>\n",
       "      <td>0.079043</td>\n",
       "      <td>-0.007067</td>\n",
       "      <td>0.002907</td>\n",
       "      <td>-2.430858</td>\n",
       "      <td>0.071528</td>\n",
       "      <td>-0.054163</td>\n",
       "    </tr>\n",
       "  </tbody>\n",
       "</table>\n",
       "</div>"
      ],
      "text/plain": [
       "    A   B   mean(A)   mean(B)      diff        se         T   p-tukey  \\\n",
       "0  AE  BG  0.078555  0.075329  0.003226  0.002956  1.091108  0.672717   \n",
       "1  AE  GE  0.078555  0.071976  0.006579  0.003121  2.107868  0.150608   \n",
       "2  AE  NE  0.078555  0.079043 -0.000488  0.002987 -0.163479  0.900000   \n",
       "3  BG  GE  0.075329  0.071976  0.003353  0.002876  1.165944  0.630714   \n",
       "4  BG  NE  0.075329  0.079043 -0.003714  0.002730 -1.360604  0.521453   \n",
       "5  GE  NE  0.071976  0.079043 -0.007067  0.002907 -2.430858  0.071528   \n",
       "\n",
       "     hedges  \n",
       "0  0.024722  \n",
       "1  0.050419  \n",
       "2 -0.003742  \n",
       "3  0.025698  \n",
       "4 -0.028465  \n",
       "5 -0.054163  "
      ]
     },
     "execution_count": 14,
     "metadata": {},
     "output_type": "execute_result"
    }
   ],
   "source": [
    "pg.pairwise_tukey(data=or_data, dv='OffRoutePerTenKilometers', between='task')"
   ]
  }
 ],
 "metadata": {
  "kernelspec": {
   "display_name": "Python 3 (ipykernel)",
   "language": "python",
   "name": "python3"
  },
  "language_info": {
   "codemirror_mode": {
    "name": "ipython",
    "version": 3
   },
   "file_extension": ".py",
   "mimetype": "text/x-python",
   "name": "python",
   "nbconvert_exporter": "python",
   "pygments_lexer": "ipython3",
   "version": "3.9.6"
  }
 },
 "nbformat": 4,
 "nbformat_minor": 2
}
