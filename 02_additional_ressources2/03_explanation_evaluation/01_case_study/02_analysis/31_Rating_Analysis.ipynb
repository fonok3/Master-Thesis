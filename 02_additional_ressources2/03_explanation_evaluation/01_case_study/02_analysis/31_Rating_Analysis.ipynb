{
 "cells": [
  {
   "cell_type": "code",
   "execution_count": 1,
   "metadata": {},
   "outputs": [
    {
     "name": "stdout",
     "output_type": "stream",
     "text": [
      "<class 'pandas.core.frame.DataFrame'>\n",
      "Int64Index: 41540 entries, 0 to 41539\n",
      "Data columns (total 17 columns):\n",
      " #   Column                                            Non-Null Count  Dtype  \n",
      "---  ------                                            --------------  -----  \n",
      " 0   DeviceId                                          41540 non-null  object \n",
      " 1   numberOfRoutes                                    41540 non-null  int64  \n",
      " 2   InitialTrafficVolume                              41540 non-null  object \n",
      " 3   DistanceTraveledInMeters                          41540 non-null  int64  \n",
      " 4   OffRoutePerTenKilometers                          41540 non-null  float64\n",
      " 5   LowAccuracyCounter                                41540 non-null  int64  \n",
      " 6   Rating                                            696 non-null    float64\n",
      " 7   NumberOfTimesSeenUserCountExplanationShort        41540 non-null  float64\n",
      " 8   NumberOfTimesSeenUserCountExplanationLong         41540 non-null  float64\n",
      " 9   NumberOfTimesSeenCollaborativeRoutingExplanation  41540 non-null  float64\n",
      " 10  ActualDrivingTime                                 41540 non-null  int64  \n",
      " 11  EstimatedDrivingTime                              41540 non-null  int64  \n",
      " 12  MaxLowAccuracy                                    41540 non-null  int64  \n",
      " 13  NumberOfUnnormalRoutes                            41540 non-null  float64\n",
      " 14  LowAccuracyPerKilometer                           41540 non-null  float64\n",
      " 15  task                                              41540 non-null  object \n",
      " 16  group_named                                       41540 non-null  object \n",
      "dtypes: float64(7), int64(6), object(4)\n",
      "memory usage: 5.7+ MB\n"
     ]
    }
   ],
   "source": [
    "import pandas as pd\n",
    "import seaborn as sns\n",
    "import matplotlib.pyplot as plt\n",
    "import scipy.stats as st\n",
    "import numpy as np\n",
    "\n",
    "%matplotlib inline\n",
    "\n",
    "# Import data\n",
    "df = pd.read_csv(\"data/data_cummulative.csv\");\n",
    "\n",
    "# Set user groups from enabled features\n",
    "\n",
    "# Abbreviations:\n",
    "# - BG: User got no explanations (base group).\n",
    "# - AE: User got explanations about the routing algorithm (alogorithm explanations).\n",
    "# - NE: User got explanations depending on the active navigation (navigation explanations).\n",
    "# - GE: User got both types of explanations (grouped explanations).\n",
    "\n",
    "df.loc[(df['LowAccuracyCounter'].isna()), 'LowAccuracyCounter'] = 0\n",
    "df.loc[(df['MaxLowAccuracy'].isna()), 'MaxLowAccuracy'] = 0\n",
    "df.loc[(df['NumberOfUnnormalRoutes'].isna()), 'NumberOfUnnormalRoutes'] = 0\n",
    "df.loc[(df['OffRoutePerTenKilometers'].isna()), 'OffRoutePerTenKilometers'] = 0\n",
    "df.loc[(df['DistanceTraveledInMeters'].isna()), 'DistanceTraveledInMeters'] = 0\n",
    "df.loc[(df['NumberOfTimesSeenUserCountExplanationShort'].isna()), 'NumberOfTimesSeenUserCountExplanationShort'] = 0\n",
    "df.loc[(df['NumberOfTimesSeenUserCountExplanationLong'].isna()), 'NumberOfTimesSeenUserCountExplanationLong'] = 0\n",
    "df.loc[(df['NumberOfTimesSeenCollaborativeRoutingExplanation'].isna()), 'NumberOfTimesSeenCollaborativeRoutingExplanation'] = 0\n",
    "\n",
    "df[\"LowAccuracyPerKilometer\"] = df[\"LowAccuracyCounter\"] / (df[\"DistanceTraveledInMeters\"] / 1000)\n",
    "df.loc[(df['LowAccuracyPerKilometer'].isna()), 'LowAccuracyPerKilometer'] = 0\n",
    "\n",
    "df.loc[(df['GpsQuality'] == False) & (df['TrafficVolume'] == False) & (df['RouteExplanation'] == False) & (df['UserCount'] == False), 'task'] = \"BG\"\n",
    "df.loc[(df['GpsQuality'] == False) & (df['TrafficVolume'] == False) & (df['RouteExplanation'] == True) & (df['UserCount'] == True), 'task'] = \"AE\"\n",
    "df.loc[(df['GpsQuality'] == True) & (df['TrafficVolume'] == True) & ((df['LowAccuracyCounter'] > 0) | (df['InitialTrafficVolume'] != \"Normal\")) & (df['RouteExplanation'] == False) & (df['UserCount'] == False), 'task'] = \"NE\"\n",
    "df.loc[(df['GpsQuality'] == True) & (df['TrafficVolume'] == True) & ((df['LowAccuracyCounter'] > 0) | (df['InitialTrafficVolume'] != \"Normal\")) & (df['RouteExplanation'] == True) & (df['UserCount'] == True), 'task'] = \"GE\"\n",
    "df.loc[(df['GpsQuality'] == True) & (df['TrafficVolume'] == True) & ((df['LowAccuracyCounter'] <= 0) & (df['InitialTrafficVolume'] == \"Normal\")) & (df['RouteExplanation'] == False) & (df['UserCount'] == False), 'task'] = \"NE\"\n",
    "df.loc[(df['GpsQuality'] == True) & (df['TrafficVolume'] == True) & ((df['LowAccuracyCounter'] <= 0) & (df['InitialTrafficVolume'] == \"Normal\")) & (df['RouteExplanation'] == True) & (df['UserCount'] == True), 'task'] = \"GE\"\n",
    "\n",
    "df.loc[(df['task'] == \"BG\"), 'group_named'] = \"Gruppe 1\"\n",
    "df.loc[(df['task'] == \"AE\"), 'group_named'] = \"Gruppe 2\"\n",
    "df.loc[(df['task'] == \"NE\"), 'group_named'] = \"Gruppe 3\"\n",
    "df.loc[(df['task'] == \"GE\"), 'group_named'] = \"Gruppe 4\"\n",
    "\n",
    "df = df[df['task'].notna()]\n",
    "\n",
    "# Remove fields with redundant information\n",
    "df = df.drop(columns=['GpsQuality', 'TrafficVolume', 'RouteExplanation', 'UserCount'])\n",
    "\n",
    "df.info()"
   ]
  },
  {
   "cell_type": "code",
   "execution_count": 2,
   "metadata": {},
   "outputs": [
    {
     "name": "stdout",
     "output_type": "stream",
     "text": [
      "<class 'pandas.core.frame.DataFrame'>\n",
      "Int64Index: 625 entries, 78 to 37467\n",
      "Data columns (total 17 columns):\n",
      " #   Column                                            Non-Null Count  Dtype  \n",
      "---  ------                                            --------------  -----  \n",
      " 0   DeviceId                                          625 non-null    object \n",
      " 1   numberOfRoutes                                    625 non-null    int64  \n",
      " 2   InitialTrafficVolume                              625 non-null    object \n",
      " 3   DistanceTraveledInMeters                          625 non-null    int64  \n",
      " 4   OffRoutePerTenKilometers                          625 non-null    float64\n",
      " 5   LowAccuracyCounter                                625 non-null    int64  \n",
      " 6   Rating                                            625 non-null    float64\n",
      " 7   NumberOfTimesSeenUserCountExplanationShort        625 non-null    float64\n",
      " 8   NumberOfTimesSeenUserCountExplanationLong         625 non-null    float64\n",
      " 9   NumberOfTimesSeenCollaborativeRoutingExplanation  625 non-null    float64\n",
      " 10  ActualDrivingTime                                 625 non-null    int64  \n",
      " 11  EstimatedDrivingTime                              625 non-null    int64  \n",
      " 12  MaxLowAccuracy                                    625 non-null    int64  \n",
      " 13  NumberOfUnnormalRoutes                            625 non-null    float64\n",
      " 14  LowAccuracyPerKilometer                           625 non-null    float64\n",
      " 15  task                                              625 non-null    object \n",
      " 16  group_named                                       625 non-null    object \n",
      "dtypes: float64(7), int64(6), object(4)\n",
      "memory usage: 87.9+ KB\n"
     ]
    }
   ],
   "source": [
    "# Filter for unusable data\n",
    "filtered_data = df\n",
    "\n",
    "filtered_data = filtered_data[filtered_data['Rating'].notna()]\n",
    "filtered_data = filtered_data[filtered_data['DistanceTraveledInMeters']>5000]\n",
    "\n",
    "filtered_data.info()"
   ]
  },
  {
   "cell_type": "code",
   "execution_count": 3,
   "metadata": {},
   "outputs": [
    {
     "data": {
      "text/html": [
       "<div>\n",
       "<style scoped>\n",
       "    .dataframe tbody tr th:only-of-type {\n",
       "        vertical-align: middle;\n",
       "    }\n",
       "\n",
       "    .dataframe tbody tr th {\n",
       "        vertical-align: top;\n",
       "    }\n",
       "\n",
       "    .dataframe thead th {\n",
       "        text-align: right;\n",
       "    }\n",
       "</style>\n",
       "<table border=\"1\" class=\"dataframe\">\n",
       "  <thead>\n",
       "    <tr style=\"text-align: right;\">\n",
       "      <th></th>\n",
       "      <th>Rating</th>\n",
       "      <th>task</th>\n",
       "      <th>count</th>\n",
       "    </tr>\n",
       "  </thead>\n",
       "  <tbody>\n",
       "    <tr>\n",
       "      <th>0</th>\n",
       "      <td>1.0</td>\n",
       "      <td>AE</td>\n",
       "      <td>7</td>\n",
       "    </tr>\n",
       "    <tr>\n",
       "      <th>1</th>\n",
       "      <td>1.0</td>\n",
       "      <td>BG</td>\n",
       "      <td>2</td>\n",
       "    </tr>\n",
       "    <tr>\n",
       "      <th>2</th>\n",
       "      <td>1.0</td>\n",
       "      <td>GE</td>\n",
       "      <td>4</td>\n",
       "    </tr>\n",
       "    <tr>\n",
       "      <th>3</th>\n",
       "      <td>1.0</td>\n",
       "      <td>NE</td>\n",
       "      <td>7</td>\n",
       "    </tr>\n",
       "    <tr>\n",
       "      <th>4</th>\n",
       "      <td>2.0</td>\n",
       "      <td>AE</td>\n",
       "      <td>4</td>\n",
       "    </tr>\n",
       "    <tr>\n",
       "      <th>5</th>\n",
       "      <td>2.0</td>\n",
       "      <td>BG</td>\n",
       "      <td>6</td>\n",
       "    </tr>\n",
       "    <tr>\n",
       "      <th>6</th>\n",
       "      <td>2.0</td>\n",
       "      <td>GE</td>\n",
       "      <td>4</td>\n",
       "    </tr>\n",
       "    <tr>\n",
       "      <th>7</th>\n",
       "      <td>2.0</td>\n",
       "      <td>NE</td>\n",
       "      <td>2</td>\n",
       "    </tr>\n",
       "    <tr>\n",
       "      <th>8</th>\n",
       "      <td>3.0</td>\n",
       "      <td>AE</td>\n",
       "      <td>2</td>\n",
       "    </tr>\n",
       "    <tr>\n",
       "      <th>9</th>\n",
       "      <td>3.0</td>\n",
       "      <td>BG</td>\n",
       "      <td>2</td>\n",
       "    </tr>\n",
       "    <tr>\n",
       "      <th>10</th>\n",
       "      <td>3.0</td>\n",
       "      <td>GE</td>\n",
       "      <td>2</td>\n",
       "    </tr>\n",
       "    <tr>\n",
       "      <th>11</th>\n",
       "      <td>4.0</td>\n",
       "      <td>AE</td>\n",
       "      <td>13</td>\n",
       "    </tr>\n",
       "    <tr>\n",
       "      <th>12</th>\n",
       "      <td>4.0</td>\n",
       "      <td>BG</td>\n",
       "      <td>30</td>\n",
       "    </tr>\n",
       "    <tr>\n",
       "      <th>13</th>\n",
       "      <td>4.0</td>\n",
       "      <td>GE</td>\n",
       "      <td>37</td>\n",
       "    </tr>\n",
       "    <tr>\n",
       "      <th>14</th>\n",
       "      <td>4.0</td>\n",
       "      <td>NE</td>\n",
       "      <td>16</td>\n",
       "    </tr>\n",
       "    <tr>\n",
       "      <th>15</th>\n",
       "      <td>5.0</td>\n",
       "      <td>AE</td>\n",
       "      <td>109</td>\n",
       "    </tr>\n",
       "    <tr>\n",
       "      <th>16</th>\n",
       "      <td>5.0</td>\n",
       "      <td>BG</td>\n",
       "      <td>93</td>\n",
       "    </tr>\n",
       "    <tr>\n",
       "      <th>17</th>\n",
       "      <td>5.0</td>\n",
       "      <td>GE</td>\n",
       "      <td>126</td>\n",
       "    </tr>\n",
       "    <tr>\n",
       "      <th>18</th>\n",
       "      <td>5.0</td>\n",
       "      <td>NE</td>\n",
       "      <td>159</td>\n",
       "    </tr>\n",
       "  </tbody>\n",
       "</table>\n",
       "</div>"
      ],
      "text/plain": [
       "    Rating task  count\n",
       "0      1.0   AE      7\n",
       "1      1.0   BG      2\n",
       "2      1.0   GE      4\n",
       "3      1.0   NE      7\n",
       "4      2.0   AE      4\n",
       "5      2.0   BG      6\n",
       "6      2.0   GE      4\n",
       "7      2.0   NE      2\n",
       "8      3.0   AE      2\n",
       "9      3.0   BG      2\n",
       "10     3.0   GE      2\n",
       "11     4.0   AE     13\n",
       "12     4.0   BG     30\n",
       "13     4.0   GE     37\n",
       "14     4.0   NE     16\n",
       "15     5.0   AE    109\n",
       "16     5.0   BG     93\n",
       "17     5.0   GE    126\n",
       "18     5.0   NE    159"
      ]
     },
     "execution_count": 3,
     "metadata": {},
     "output_type": "execute_result"
    }
   ],
   "source": [
    "g = filtered_data.groupby(['Rating', 'task']).agg(count=('Rating', 'count'))\n",
    "result = g.reset_index()\n",
    "\n",
    "result"
   ]
  },
  {
   "cell_type": "code",
   "execution_count": 4,
   "metadata": {},
   "outputs": [
    {
     "name": "stdout",
     "output_type": "stream",
     "text": [
      "<class 'pandas.core.frame.DataFrame'>\n",
      "RangeIndex: 183 entries, 0 to 182\n",
      "Data columns (total 4 columns):\n",
      " #   Column          Non-Null Count  Dtype \n",
      "---  ------          --------------  ----- \n",
      " 0   DeviceId        183 non-null    object\n",
      " 1   task            183 non-null    object\n",
      " 2   group_named     183 non-null    object\n",
      " 3   numberOfRoutes  183 non-null    int64 \n",
      "dtypes: int64(1), object(3)\n",
      "memory usage: 5.8+ KB\n"
     ]
    }
   ],
   "source": [
    "#g = filtered_data.groupby(['DeviceId', 'task']).mean()\n",
    "#grouped_data_filtered = g.reset_index()\n",
    "\n",
    "g = filtered_data.groupby(['DeviceId', 'task', 'group_named']).agg(numberOfRoutes=('DeviceId', 'count'))\n",
    "grouped_data_filtered = g.reset_index()\n",
    "\n",
    "grouped_data_filtered.info()"
   ]
  },
  {
   "cell_type": "code",
   "execution_count": 5,
   "metadata": {},
   "outputs": [
    {
     "data": {
      "text/html": [
       "<div>\n",
       "<style scoped>\n",
       "    .dataframe tbody tr th:only-of-type {\n",
       "        vertical-align: middle;\n",
       "    }\n",
       "\n",
       "    .dataframe tbody tr th {\n",
       "        vertical-align: top;\n",
       "    }\n",
       "\n",
       "    .dataframe thead th {\n",
       "        text-align: right;\n",
       "    }\n",
       "</style>\n",
       "<table border=\"1\" class=\"dataframe\">\n",
       "  <thead>\n",
       "    <tr style=\"text-align: right;\">\n",
       "      <th></th>\n",
       "      <th>group_named</th>\n",
       "      <th>DeviceId</th>\n",
       "    </tr>\n",
       "  </thead>\n",
       "  <tbody>\n",
       "    <tr>\n",
       "      <th>0</th>\n",
       "      <td>Gruppe 1</td>\n",
       "      <td>133</td>\n",
       "    </tr>\n",
       "    <tr>\n",
       "      <th>1</th>\n",
       "      <td>Gruppe 2</td>\n",
       "      <td>135</td>\n",
       "    </tr>\n",
       "    <tr>\n",
       "      <th>2</th>\n",
       "      <td>Gruppe 3</td>\n",
       "      <td>184</td>\n",
       "    </tr>\n",
       "    <tr>\n",
       "      <th>3</th>\n",
       "      <td>Gruppe 4</td>\n",
       "      <td>173</td>\n",
       "    </tr>\n",
       "  </tbody>\n",
       "</table>\n",
       "</div>"
      ],
      "text/plain": [
       "  group_named  DeviceId\n",
       "0    Gruppe 1       133\n",
       "1    Gruppe 2       135\n",
       "2    Gruppe 3       184\n",
       "3    Gruppe 4       173"
      ]
     },
     "execution_count": 5,
     "metadata": {},
     "output_type": "execute_result"
    }
   ],
   "source": [
    "g = filtered_data.groupby('group_named')[\"DeviceId\"].count()\n",
    "grouped_data_task = g.reset_index()\n",
    "grouped_data_task.head()"
   ]
  },
  {
   "cell_type": "code",
   "execution_count": 6,
   "metadata": {},
   "outputs": [
    {
     "data": {
      "text/plain": [
       "<module 'matplotlib.pyplot' from '/usr/local/lib/python3.9/site-packages/matplotlib/pyplot.py'>"
      ]
     },
     "execution_count": 6,
     "metadata": {},
     "output_type": "execute_result"
    },
    {
     "data": {
      "image/png": "[encoded data removed]",
      "text/plain": [
       "<Figure size 720x432 with 1 Axes>"
      ]
     },
     "metadata": {},
     "output_type": "display_data"
    }
   ],
   "source": [
    "chartColors=[\"#00509B\", \"#C8D317\", \"#999999\", \"#8FA6CA\", \"#EE6429\", \"#E4AF8E\"]\n",
    "labels = grouped_data_task.group_named.sort_values()\n",
    "\n",
    "pie, ax = plt.subplots(figsize=[10,6])\n",
    "plt.pie(x=grouped_data_task[\"DeviceId\"], autopct=\"%.1f%%\", labels=labels, pctdistance=0.5, colors=chartColors)\n",
    "plt"
   ]
  },
  {
   "cell_type": "code",
   "execution_count": 7,
   "metadata": {},
   "outputs": [],
   "source": [
    "or_data = filtered_data"
   ]
  },
  {
   "cell_type": "code",
   "execution_count": 8,
   "metadata": {},
   "outputs": [
    {
     "data": {
      "image/png": "[encoded data removed]",
      "text/plain": [
       "<Figure size 432x288 with 1 Axes>"
      ]
     },
     "metadata": {},
     "output_type": "display_data"
    }
   ],
   "source": [
    "sns.set()\n",
    "sns.boxplot(data=df, x=or_data.task, y=or_data.Rating)\n",
    "plt.show()"
   ]
  },
  {
   "cell_type": "code",
   "execution_count": 9,
   "metadata": {},
   "outputs": [
    {
     "name": "stdout",
     "output_type": "stream",
     "text": [
      "Task  BG  normality result:  ShapiroResult(statistic=0.5757380127906799, pvalue=6.01816950383211e-18)\n",
      "Variance:  0.7343358395989974\n",
      "Task  AE  normality result:  ShapiroResult(statistic=0.45814597606658936, pvalue=3.1355754534288624e-20)\n",
      "Variance:  1.0815920398009953\n",
      "Task  NE  normality result:  ShapiroResult(statistic=0.3524942398071289, pvalue=3.3180071458513357e-25)\n",
      "Variance:  0.7235685435970538\n",
      "Task  GE  normality result:  ShapiroResult(statistic=0.52881920337677, pvalue=2.1424092975706707e-21)\n",
      "Variance:  0.6830219115472509\n"
     ]
    }
   ],
   "source": [
    "#Test groups for normality.\n",
    "\n",
    "experiments = [\"BG\", \"AE\", \"NE\", \"GE\"]\n",
    "\n",
    "for e in experiments:\n",
    "    print(\"Task \", e, \" normality result: \", st.shapiro(or_data[or_data.task==e].Rating))\n",
    "    print(\"Variance: \", or_data[or_data.task == e].Rating.var())"
   ]
  },
  {
   "cell_type": "markdown",
   "metadata": {},
   "source": [
    "p < 0.05 -> we can reject the 0-Hypotheses.\n",
    "\n",
    "Groups are not normally distributed thus we have to take Kruskal Wallis instead of ANONVA\n",
    "\n",
    "### References\n",
    "\n",
    "- Glass, G.V., P.D. Peckham, and J.R. Sanders. 1972. Consequences of failure to meet assumptions underlying fixed effects analyses of variance and covariance. Rev. Educ. Res. 42: 237-288.\n",
    "- Harwell, M.R., E.N. Rubinstein, W.S. Hayes, and C.C. Olds. 1992. Summarizing Monte Carlo results in methodological research: the one- and two-factor fixed effects ANOVA cases. J. Educ. Stat. 17: 315-339.\n",
    "- Lix, L.M., J.C. Keselman, and H.J. Keselman. 1996. Consequences of assumption violations revisited: A quantitative review of alternatives to the one-way analysis of variance F test. Rev. Educ. Res. 66: 579-619."
   ]
  },
  {
   "cell_type": "code",
   "execution_count": 10,
   "metadata": {},
   "outputs": [
    {
     "name": "stdout",
     "output_type": "stream",
     "text": [
      "  Source  ddof1  ddof2         F     p-unc      np2\n",
      "0   task      3    621  1.316663  0.267945  0.00632\n"
     ]
    }
   ],
   "source": [
    "import pingouin as pg\n",
    "\n",
    "res = pg.anova(dv='Rating', between=['task'], data=or_data)\n",
    "\n",
    "print(res)"
   ]
  },
  {
   "cell_type": "code",
   "execution_count": 11,
   "metadata": {},
   "outputs": [
    {
     "name": "stdout",
     "output_type": "stream",
     "text": [
      "        Source  ddof1          H    p-unc\n",
      "Kruskal   task      3  13.695762  0.00335\n"
     ]
    }
   ],
   "source": [
    "import pingouin as pg\n",
    "\n",
    "res = pg.kruskal(data=or_data, dv='Rating', between='task')\n",
    "\n",
    "print(res)"
   ]
  },
  {
   "cell_type": "markdown",
   "metadata": {},
   "source": [
    "p < 0.05 --> we can reject the 0-Hypothesis."
   ]
  },
  {
   "cell_type": "code",
   "execution_count": 12,
   "metadata": {
    "scrolled": true
   },
   "outputs": [
    {
     "data": {
      "image/png": "[encoded data removed]",
      "text/plain": [
       "<Figure size 432x288 with 2 Axes>"
      ]
     },
     "metadata": {},
     "output_type": "display_data"
    },
    {
     "name": "stdout",
     "output_type": "stream",
     "text": [
      "          Gruppe 1  Gruppe 2  Gruppe 3  Gruppe 4\n",
      "Gruppe 1  1.000000  0.384063  0.005723  1.000000\n",
      "Gruppe 2  0.384063  1.000000  1.000000  1.000000\n",
      "Gruppe 3  0.005723  1.000000  1.000000  0.024375\n",
      "Gruppe 4  1.000000  1.000000  0.024375  1.000000\n",
      "Mean BG:  4.548872180451128 BG:  5.0  STD:  0.8569339762192869 \n",
      "Mean AE:  4.5777777777777775 AE:  5.0  STD:  1.0399961729742062 \n",
      "Mean NE:  4.728260869565218 NE:  5.0  STD:  0.8506283228279281 \n",
      "Mean GE:  4.601156069364162 GE:  5.0  STD:  0.8264513969661198 \n"
     ]
    }
   ],
   "source": [
    "import scipy.stats as st\n",
    "import scikit_posthocs as sp\n",
    "from statsmodels.stats.anova import AnovaRM\n",
    "\n",
    "#pairwise testing:\n",
    "\n",
    "pc = sp.posthoc_dunn(or_data, val_col=\"Rating\", group_col='group_named', p_adjust=\"bonferroni\")\n",
    "\n",
    "\n",
    "heatmap_args = {'linewidths': 0.25, 'linecolor': '0.5', 'clip_on': False, 'square': True, 'cbar_ax_bbox': [0.80, 0.35, 0.04, 0.3]}\n",
    "sp.sign_plot(pc, **heatmap_args)\n",
    "plt.savefig('rating_result_significance.pdf')\n",
    "plt.show()\n",
    "print(pc)\n",
    "\n",
    "print(\"Mean BG: \", or_data[or_data.task == \"BG\"].Rating.mean(), \"BG: \", or_data[or_data.task == \"BG\"].Rating.median(), \" STD: \", or_data[or_data.task == \"BG\"].Rating.std(),\"\")\n",
    "print(\"Mean AE: \", or_data[or_data.task == \"AE\"].Rating.mean(), \"AE: \", or_data[or_data.task == \"AE\"].Rating.median(), \" STD: \", or_data[or_data.task == \"AE\"].Rating.std(),\"\")\n",
    "print(\"Mean NE: \", or_data[or_data.task == \"NE\"].Rating.mean(), \"NE: \", or_data[or_data.task == \"NE\"].Rating.median(), \" STD: \", or_data[or_data.task == \"NE\"].Rating.std(),\"\")\n",
    "print(\"Mean GE: \", or_data[or_data.task == \"GE\"].Rating.mean(), \"GE: \", or_data[or_data.task == \"GE\"].Rating.median(), \" STD: \", or_data[or_data.task == \"GE\"].Rating.std(),\"\")\n"
   ]
  }
 ],
 "metadata": {
  "kernelspec": {
   "display_name": "Python 3 (ipykernel)",
   "language": "python",
   "name": "python3"
  },
  "language_info": {
   "codemirror_mode": {
    "name": "ipython",
    "version": 3
   },
   "file_extension": ".py",
   "mimetype": "text/x-python",
   "name": "python",
   "nbconvert_exporter": "python",
   "pygments_lexer": "ipython3",
   "version": "3.9.6"
  }
 },
 "nbformat": 4,
 "nbformat_minor": 2
}
